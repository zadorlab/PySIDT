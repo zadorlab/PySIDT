{
 "cells": [
  {
   "cell_type": "code",
   "execution_count": null,
   "id": "2e602b7f-c603-4de2-a05d-9f0c73d41b0b",
   "metadata": {},
   "outputs": [],
   "source": [
    "from pysidt.sidt import read_nodes, write_nodes, MultiEvalSubgraphIsomorphicDecisionTreeBinaryClassifier, Datum\n",
    "from pysidt.plotting import plot_tree\n",
    "from pysidt.decomposition import atom_decomposition_noH\n",
    "from molecule.molecule import Molecule, Group\n",
    "from molecule.molecule.atomtype import ATOMTYPES\n",
    "import numpy as np"
   ]
  },
  {
   "cell_type": "code",
   "execution_count": null,
   "id": "87a03282-d729-499a-9479-5001a1b1d49e",
   "metadata": {},
   "outputs": [],
   "source": [
    "#In general species of the form [R.]OOH are usually not stable and decompose to R=O + OH, an exception to this is CH2OOH\n",
    "stable_smiles = [\"CC\",\"C\",\"O\",\"CO\",\"CCC\",\"C[CH]C\",\"C[CH]CC\",\"C[CH]OC\",\"C[CH]CO\",\"C=C\",\"C=CC\",\"CCCC\",\"CCCO\",\"COC\",\"CCOC\",\n",
    "                 \"[OH]\",\"[CH3]\",\"[CH2]OO\", \"C[CH2]\", \"COO\", \"CCOO\",\"CCCOO\",\"[CH2]CCC\",\"C[CH]OC\",\"C[CH]O\", \"CC[CH]CC\", \"OC[CH]CC\",\n",
    "                \"C=CCC\", \"O[CH]CC\", \"CO[CH]CC\",\"CO[CH]OC\", \"O=CC\", \"C=CCCC\", \"O=CCCC\", \"CCCCCC\", \"CCCCCCC\", \"[CH2]OCO[CH]C\",\n",
    "                 \"O[CH]CCCO[CH]CC\", \"CCC[CH]C\",]\n",
    "unstable_smiles = [\"C[CH]OO\",\"CC[CH]OO\",\"O=CC[CH]OO\",\"CCC[CH]OO\"]"
   ]
  },
  {
   "cell_type": "code",
   "execution_count": null,
   "id": "bd624b7e-f9aa-4fba-bf09-2898d747f441",
   "metadata": {},
   "outputs": [],
   "source": [
    "data = []\n",
    "for sm in stable_smiles:\n",
    "    data.append(Datum(Molecule().from_smiles(sm),True))\n",
    "for sm in unstable_smiles:\n",
    "    data.append(Datum(Molecule().from_smiles(sm),False))"
   ]
  },
  {
   "cell_type": "code",
   "execution_count": null,
   "id": "e49e1fc1-6ea3-43a3-b76f-166e3b951079",
   "metadata": {},
   "outputs": [],
   "source": [
    "root = Group().from_adjacency_list(\"\"\"\n",
    "1 * R ux px cx\n",
    "\"\"\")"
   ]
  },
  {
   "cell_type": "code",
   "execution_count": null,
   "id": "1284bbee-a3ca-4f43-9068-2456e7d15a57",
   "metadata": {},
   "outputs": [],
   "source": [
    "tree = MultiEvalSubgraphIsomorphicDecisionTreeBinaryClassifier(atom_decomposition_noH,root_group=root,\n",
    "                                               r=[ATOMTYPES[x] for x in [\"C\",\"O\"]],\n",
    "                                               r_bonds=[1,2,3],\n",
    "                                                         r_un=[0,1],\n",
    "                                               r_site=[], \n",
    "                                              )"
   ]
  },
  {
   "cell_type": "code",
   "execution_count": null,
   "id": "84c4e20f-c6e6-4208-b876-d016a372f387",
   "metadata": {},
   "outputs": [],
   "source": [
    "tree.generate_tree(data=data,max_nodes=100)"
   ]
  },
  {
   "cell_type": "code",
   "execution_count": null,
   "id": "2dc98a30-4cd7-4f5d-9d9b-84720886155e",
   "metadata": {
    "scrolled": true
   },
   "outputs": [],
   "source": [
    "#initial trees are much larger than it needs to be because a \"good split of data\" != \"change in classification\"\n",
    "plot_tree(tree)"
   ]
  },
  {
   "cell_type": "code",
   "execution_count": null,
   "id": "7145d6f0-8e07-4804-a565-8bfadf09955c",
   "metadata": {},
   "outputs": [],
   "source": [
    "#We then merge nodes when possible and regularize\n",
    "tree.trim_tree()\n",
    "tree.regularize()"
   ]
  },
  {
   "cell_type": "code",
   "execution_count": null,
   "id": "8f726167-e1ac-40e1-af71-edf53105cf66",
   "metadata": {},
   "outputs": [],
   "source": [
    "#After trimming and regularizing we have a much simpler tree that is easy to evaluate and analyze\n",
    "plot_tree(tree)"
   ]
  },
  {
   "cell_type": "code",
   "execution_count": null,
   "id": "24a88f4a-04a0-427d-804a-860d840aec6d",
   "metadata": {},
   "outputs": [],
   "source": [
    "tree.analyze_error()"
   ]
  },
  {
   "cell_type": "code",
   "execution_count": null,
   "id": "437dbc01-e1af-4c2c-9b34-bebdc1588838",
   "metadata": {},
   "outputs": [],
   "source": [
    "for name,node in tree.nodes.items():\n",
    "    print(name)\n",
    "    print(node.rule)\n",
    "    print(node.group.to_adjacency_list())"
   ]
  },
  {
   "cell_type": "code",
   "execution_count": null,
   "id": "943e0e06-4b2e-4940-a962-881ea6f3802b",
   "metadata": {},
   "outputs": [],
   "source": []
  }
 ],
 "metadata": {
  "kernelspec": {
   "display_name": "Python 3 (ipykernel)",
   "language": "python",
   "name": "python3"
  },
  "language_info": {
   "codemirror_mode": {
    "name": "ipython",
    "version": 3
   },
   "file_extension": ".py",
   "mimetype": "text/x-python",
   "name": "python",
   "nbconvert_exporter": "python",
   "pygments_lexer": "ipython3",
   "version": "3.8.15"
  }
 },
 "nbformat": 4,
 "nbformat_minor": 5
}
