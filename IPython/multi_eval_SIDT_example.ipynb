{
 "cells": [
  {
   "cell_type": "code",
   "execution_count": null,
   "id": "e2776db3",
   "metadata": {},
   "outputs": [],
   "source": [
    "import json\n",
    "import random\n",
    "import scipy\n",
    "import numpy as np\n",
    "\n",
    "from pysidt import Datum, MultiEvalSubgraphIsomorphicDecisionTreeRegressor\n",
    "from pysidt.decomposition import atom_decomposition_noH\n",
    "from pysidt.plotting import plot_tree\n",
    "\n",
    "from molecule.molecule import Group, Molecule, ATOMTYPES\n",
    "\n",
    "import matplotlib.pyplot as plt\n",
    "%matplotlib inline"
   ]
  },
  {
   "cell_type": "code",
   "execution_count": null,
   "id": "9767c184",
   "metadata": {},
   "outputs": [],
   "source": [
    "with open(\"../data/rmgdbH298CHOstablenoringnoads.json\", \"r\") as f:\n",
    "    data = json.load(f)"
   ]
  },
  {
   "cell_type": "code",
   "execution_count": null,
   "id": "cde77dfd",
   "metadata": {},
   "outputs": [],
   "source": [
    "training_data = []\n",
    "for i, x in enumerate(data):\n",
    "    d = Datum(Molecule().from_adjacency_list(x[0], check_consistency=True), x[1])\n",
    "    dup = False\n",
    "    for td in training_data:\n",
    "        if td.mol.is_isomorphic(d.mol):\n",
    "            dup = True\n",
    "            break\n",
    "    if not dup:\n",
    "        training_data.append(d)\n"
   ]
  },
  {
   "cell_type": "code",
   "execution_count": null,
   "id": "a1c9763c-c5d8-44fa-9c55-bf49894d2c98",
   "metadata": {},
   "outputs": [],
   "source": [
    "train = training_data"
   ]
  },
  {
   "cell_type": "code",
   "execution_count": null,
   "id": "c37e1cb8",
   "metadata": {},
   "outputs": [],
   "source": [
    "root = Group().from_adjacency_list(\"\"\"1 * R u0 px cx\"\"\")\n",
    "\n",
    "sidt = MultiEvalSubgraphIsomorphicDecisionTreeRegressor(\n",
    "    atom_decomposition_noH,\n",
    "    root_group=root,\n",
    "    r=[ATOMTYPES[x] for x in [\"C\", \"O\"]],\n",
    "    r_bonds=[1, 2, 3, 1.5],\n",
    "    r_un=[0],\n",
    "    fract_nodes_expand_per_iter=0.1,\n",
    ")"
   ]
  },
  {
   "cell_type": "code",
   "execution_count": null,
   "id": "65aaeedf",
   "metadata": {
    "scrolled": true
   },
   "outputs": [],
   "source": [
    "sidt.generate_tree(data=train, max_nodes=120)"
   ]
  },
  {
   "cell_type": "code",
   "execution_count": null,
   "id": "7c6be7af",
   "metadata": {},
   "outputs": [],
   "source": [
    "sidt.regularize(data=train, check_data=True)"
   ]
  },
  {
   "cell_type": "code",
   "execution_count": null,
   "id": "f63ba07c",
   "metadata": {},
   "outputs": [],
   "source": [
    "sidt.nodes"
   ]
  },
  {
   "cell_type": "code",
   "execution_count": null,
   "id": "4f7f4896",
   "metadata": {},
   "outputs": [],
   "source": [
    "plot_tree(sidt, images=True)"
   ]
  },
  {
   "cell_type": "code",
   "execution_count": null,
   "id": "6ff9867b-9720-4cac-a423-34403303b99e",
   "metadata": {},
   "outputs": [],
   "source": [
    "errors = []\n",
    "pred = []\n",
    "actual = []\n",
    "uncs = []\n",
    "for d in train:\n",
    "    #uncomment for leave-one-out errors rather than training errors, commented for tests\n",
    "    #ds = train[:]\n",
    "    #ds.remove(d)\n",
    "    #sidt.fit_tree(data=ds,check_data=True)\n",
    "    #sidt.estimate_uncertainty()\n",
    "    pval,unc = sidt.evaluate(d.mol, estimate_uncertainty=True)\n",
    "    pred.append(pval)\n",
    "    actual.append(d.value)\n",
    "    uncs.append(unc)\n",
    "    error = sidt.evaluate(d.mol) - d.value\n",
    "    errors.append(error)"
   ]
  },
  {
   "cell_type": "code",
   "execution_count": null,
   "id": "06bce319",
   "metadata": {},
   "outputs": [],
   "source": [
    "np.mean(np.abs(np.array(errors))) / 4184.0"
   ]
  },
  {
   "cell_type": "code",
   "execution_count": null,
   "id": "f377c867-2e81-48d0-ba21-3bc91868be11",
   "metadata": {},
   "outputs": [],
   "source": [
    "data_var = np.var(np.array([d.value for d in train]))"
   ]
  },
  {
   "cell_type": "code",
   "execution_count": null,
   "id": "49e2332b-bbc5-48b9-95cd-e318ca3f00fd",
   "metadata": {},
   "outputs": [],
   "source": [
    "data_var"
   ]
  },
  {
   "cell_type": "code",
   "execution_count": null,
   "id": "cc0a984a-83af-4f84-ba96-b7a42afd0fff",
   "metadata": {},
   "outputs": [],
   "source": [
    "error_var = np.var(np.array(errors))"
   ]
  },
  {
   "cell_type": "code",
   "execution_count": null,
   "id": "8a3f48be-8282-4452-b023-cefd678f808b",
   "metadata": {},
   "outputs": [],
   "source": [
    "error_var/data_var"
   ]
  },
  {
   "cell_type": "code",
   "execution_count": null,
   "id": "71b218a3",
   "metadata": {},
   "outputs": [],
   "source": [
    "plt.hist(np.array(errors)/4184.0,bins=22)"
   ]
  },
  {
   "cell_type": "code",
   "execution_count": null,
   "id": "6ba6cc85-7510-4860-9836-964795281ad8",
   "metadata": {},
   "outputs": [],
   "source": [
    "plt.scatter(np.array(pred)/4184.0,np.array(actual)/4184.0,c=np.array(uncs)/4184.0, cmap=\"viridis\")\n",
    "plt.plot(np.linspace(-150,160),np.linspace(-150,160))\n",
    "cbar = plt.colorbar()\n",
    "plt.xlabel(\"SIDT Hf298 [kcal/mol]\")\n",
    "plt.ylabel(\"Actual HF298 [kcal/mol]\")\n",
    "cbar.set_label(\"Predicted Standard Deviation in Hf298 [kcal/mol]\")"
   ]
  },
  {
   "cell_type": "code",
   "execution_count": null,
   "id": "eb1b9c66-9881-4370-b9dd-63325a8a1d78",
   "metadata": {},
   "outputs": [],
   "source": [
    "confidences = np.linspace(0,1,100)\n",
    "fracts = np.zeros(len(confidences))\n",
    "for j,conf in enumerate(confidences):\n",
    "    for i in range(len(pred)):\n",
    "        h = uncs[i] * scipy.stats.norm.ppf((1+conf)/2.0)\n",
    "        err = abs(pred[i]-actual[i])\n",
    "        if h > err:\n",
    "            fracts[j] += 1\n",
    "fracts  = fracts/ len(pred)"
   ]
  },
  {
   "cell_type": "code",
   "execution_count": null,
   "id": "10941390-9285-4c05-a869-00b0915a21b7",
   "metadata": {},
   "outputs": [],
   "source": [
    "plt.plot(confidences,confidences)\n",
    "plt.plot(confidences,fracts)\n",
    "plt.xlabel(\"Confidence Level\")\n",
    "plt.ylabel(\"Proportion Correct\")"
   ]
  },
  {
   "cell_type": "code",
   "execution_count": null,
   "id": "0fd64e1c-b493-4b9d-9cca-e78d6be72416",
   "metadata": {},
   "outputs": [],
   "source": []
  }
 ],
 "metadata": {
  "kernelspec": {
   "display_name": "Python 3 (ipykernel)",
   "language": "python",
   "name": "python3"
  },
  "language_info": {
   "codemirror_mode": {
    "name": "ipython",
    "version": 3
   },
   "file_extension": ".py",
   "mimetype": "text/x-python",
   "name": "python",
   "nbconvert_exporter": "python",
   "pygments_lexer": "ipython3",
   "version": "3.8.15"
  }
 },
 "nbformat": 4,
 "nbformat_minor": 5
}
